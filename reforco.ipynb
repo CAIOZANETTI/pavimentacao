{
 "cells": [
  {
   "cell_type": "code",
   "execution_count": 185,
   "metadata": {},
   "outputs": [],
   "source": [
    "import pandas as pd\n",
    "import ipywidgets as wg\n",
    "import math"
   ]
  },
  {
   "cell_type": "markdown",
   "metadata": {},
   "source": [
    "## Calculo de Reforço Pavimento Flexivel\n",
    "### (base granular espessura =< 45cm)"
   ]
  },
  {
   "cell_type": "code",
   "execution_count": 186,
   "metadata": {},
   "outputs": [
    {
     "data": {
      "application/vnd.jupyter.widget-view+json": {
       "model_id": "63c24b6bf79b41a2911cc9914715c383",
       "version_major": 2,
       "version_minor": 0
      },
      "text/plain": [
       "HBox(children=(HTML(value='1) Informar o Nº USACE >>>'), FloatText(value=59900000.0)))"
      ]
     },
     "metadata": {},
     "output_type": "display_data"
    }
   ],
   "source": [
    "N_titulo = wg.HTML(value=\"1) Informar o Nº USACE >>>\")\n",
    "\n",
    "N = wg.FloatText(value=5.99e7)\n",
    "\n",
    "wg.HBox([N_titulo,N])"
   ]
  },
  {
   "cell_type": "code",
   "execution_count": 187,
   "metadata": {},
   "outputs": [
    {
     "data": {
      "application/vnd.jupyter.widget-view+json": {
       "model_id": "83b7ebf3e85c4708bb1749ca540874cd",
       "version_major": 2,
       "version_minor": 0
      },
      "text/plain": [
       "HBox(children=(HTML(value='2) Informar a espessura do pavimento existente (0 a 20) :     '), IntSlider(value=0…"
      ]
     },
     "metadata": {},
     "output_type": "display_data"
    }
   ],
   "source": [
    "layout03 = wg.Layout(width='60%', height='30px')\n",
    "h_exist_Titulo = wg.HTML(value=\"2) Informar a espessura do pavimento existente (0 a 20) :     \")\n",
    "h_exist = wg.IntSlider(value=0,min=0,max=20,step=1, layout = layout03)\n",
    "wg.HBox([h_exist_Titulo,h_exist])"
   ]
  },
  {
   "cell_type": "code",
   "execution_count": 188,
   "metadata": {},
   "outputs": [
    {
     "data": {
      "application/vnd.jupyter.widget-view+json": {
       "model_id": "f971d82c69964b018672d60bad63a14b",
       "version_major": 2,
       "version_minor": 0
      },
      "text/plain": [
       "HBox(children=(HTML(value='3) informar as deflexões do pavimento por estaca, em numeros inteiros (sem virgula)…"
      ]
     },
     "metadata": {},
     "output_type": "display_data"
    }
   ],
   "source": [
    "layout02 = wg.Layout(width='80%', height='80px')\n",
    "\n",
    "deflexoes_Titulo = wg.HTML(value=\"3) informar as deflexões do pavimento por estaca, em numeros inteiros (sem virgula)\")\n",
    "deflexoes = wg.Textarea( value='26 28 27 30 31 33 14 ', layout=layout02)\n",
    "wg.HBox([deflexoes_Titulo,deflexoes])"
   ]
  },
  {
   "cell_type": "code",
   "execution_count": 189,
   "metadata": {},
   "outputs": [
    {
     "data": {
      "application/vnd.jupyter.widget-view+json": {
       "model_id": "8f5e828c6eeb424ba1cb014e3725281c",
       "version_major": 2,
       "version_minor": 0
      },
      "text/plain": [
       "HBox(children=(Button(button_style='success', description='Calcular', layout=Layout(height='50px', width='100%…"
      ]
     },
     "metadata": {},
     "output_type": "display_data"
    },
    {
     "data": {
      "text/html": [
       "<div>\n",
       "<style scoped>\n",
       "    .dataframe tbody tr th:only-of-type {\n",
       "        vertical-align: middle;\n",
       "    }\n",
       "\n",
       "    .dataframe tbody tr th {\n",
       "        vertical-align: top;\n",
       "    }\n",
       "\n",
       "    .dataframe thead th {\n",
       "        text-align: right;\n",
       "    }\n",
       "</style>\n",
       "<table border=\"1\" class=\"dataframe\">\n",
       "  <thead>\n",
       "    <tr style=\"text-align: right;\">\n",
       "      <th></th>\n",
       "      <th></th>\n",
       "      <th>1</th>\n",
       "    </tr>\n",
       "  </thead>\n",
       "  <tbody>\n",
       "    <tr>\n",
       "      <th rowspan=\"5\" valign=\"top\">DADOS</th>\n",
       "      <th>Num Estacas</th>\n",
       "      <td>7.000000</td>\n",
       "    </tr>\n",
       "    <tr>\n",
       "      <th>Espessura do Projeto</th>\n",
       "      <td>2.000000</td>\n",
       "    </tr>\n",
       "    <tr>\n",
       "      <th>Média</th>\n",
       "      <td>27.000000</td>\n",
       "    </tr>\n",
       "    <tr>\n",
       "      <th>Desvio Padrão</th>\n",
       "      <td>6.220000</td>\n",
       "    </tr>\n",
       "    <tr>\n",
       "      <th>Deflexão Caracteristica</th>\n",
       "      <td>33.220000</td>\n",
       "    </tr>\n",
       "    <tr>\n",
       "      <th rowspan=\"2\" valign=\"top\">PRO-11</th>\n",
       "      <th>Deflexão Admissivel</th>\n",
       "      <td>43.769630</td>\n",
       "    </tr>\n",
       "    <tr>\n",
       "      <th>Espessura Reforço</th>\n",
       "      <td>-4.790930</td>\n",
       "    </tr>\n",
       "    <tr>\n",
       "      <th rowspan=\"2\" valign=\"top\">PRO-269</th>\n",
       "      <th>Deflexão Admissivel</th>\n",
       "      <td>48.511394</td>\n",
       "    </tr>\n",
       "    <tr>\n",
       "      <th>Espessura Reforço</th>\n",
       "      <td>-10.346307</td>\n",
       "    </tr>\n",
       "  </tbody>\n",
       "</table>\n",
       "</div>"
      ],
      "text/plain": [
       "                                         1\n",
       "DADOS   Num Estacas               7.000000\n",
       "        Espessura do Projeto      2.000000\n",
       "        Média                    27.000000\n",
       "        Desvio Padrão             6.220000\n",
       "        Deflexão Caracteristica  33.220000\n",
       "PRO-11  Deflexão Admissivel      43.769630\n",
       "        Espessura Reforço        -4.790930\n",
       "PRO-269 Deflexão Admissivel      48.511394\n",
       "        Espessura Reforço       -10.346307"
      ]
     },
     "metadata": {},
     "output_type": "display_data"
    },
    {
     "data": {
      "application/vnd.jupyter.widget-view+json": {
       "model_id": "4f55bcd9bbb9484aa39af1b10d10d0e9",
       "version_major": 2,
       "version_minor": 0
      },
      "text/plain": [
       "Output(layout=Layout(border='1px solid black'))"
      ]
     },
     "metadata": {},
     "output_type": "display_data"
    }
   ],
   "source": [
    "layout01 = wg.Layout(width='100%', height='50px', justify ='right')\n",
    "\n",
    "bt_calcular = wg.Button(description='Calcular', disabled=False, button_style='success',layout=layout01)\n",
    "\n",
    "\n",
    "\n",
    "wg.HBox([bt_calcular])"
   ]
  },
  {
   "cell_type": "code",
   "execution_count": 190,
   "metadata": {},
   "outputs": [],
   "source": [
    "def reforco_Pro_269(Dc):\n",
    "    \n",
    "    hef = -5.737 + (807.961/Dc) + 0.972\n",
    "    \n",
    "    if hef < h_exist.value:\n",
    "        hef = h_exist.value\n",
    "    hef\n",
    "    \n",
    "    Dadm = math.pow(10,(3.148-0.188*math.log(N.value,10)))\n",
    "    hr = -19.015+(238.14/math.sqrt(Dadm))-1.357*hef+1.016\n",
    "    return Dadm,hr\n",
    "    "
   ]
  },
  {
   "cell_type": "code",
   "execution_count": 191,
   "metadata": {},
   "outputs": [],
   "source": [
    "def reforco_Pro_11(Dc):\n",
    "    \n",
    "    Dadm = math.pow(10,(3.01-0.176*math.log10(N.value)))\n",
    "    h = 40*(math.log(Dc/Dadm,10))\n",
    "    return Dadm,h"
   ]
  },
  {
   "cell_type": "code",
   "execution_count": 192,
   "metadata": {},
   "outputs": [],
   "source": [
    "def fun_calcular2(a):\n",
    "    array = deflexoes.value.split()\n",
    "    array_int = map(int,array) # < converter string in integer\n",
    "    Serie = pd.Series(array_int)\n",
    "    Dc= round((Serie.mean()+Serie.std()),2)\n",
    "    \n",
    "    Dadm_269,hr_269= reforco_Pro_269(Dc)\n",
    "    Dadm_11,hr_11= reforco_Pro_11(Dc)\n",
    "    \n",
    "    nivel00 = ['DADOS']*5+ ['PRO-11']*2 + ['PRO-269']*2\n",
    "    nivel01 = ['Num Estacas','Espessura do Projeto','Média','Desvio Padrão','Deflexão Caracteristica',\n",
    "                  'Deflexão Admissivel', 'Espessura Reforço',\n",
    "                  'Deflexão Admissivel', 'Espessura Reforço'\n",
    "              ]\n",
    "    \n",
    "    nivel_zip = list(zip(nivel00,nivel01))\n",
    "    indice_mult = pd.MultiIndex.from_tuples(nivel_zip)\n",
    "    \n",
    "    serie_dados= [1,[Serie.size,h_exist.value, round(Serie.mean(),2),round(Serie.std(),2),Dc\n",
    "                     ,Dadm_11,hr_11,\n",
    "                     Dadm_269,hr_269]]\n",
    "    \n",
    "    df = pd.DataFrame(serie_dados[1], index=indice_mult, columns=[1])\n",
    "    linha_divisa = wg.Output(layout={'border': '1px solid black'})\n",
    "    \n",
    "    display(df,linha_divisa)   \n",
    "bt_calcular.on_click(fun_calcular2)    "
   ]
  },
  {
   "cell_type": "code",
   "execution_count": 193,
   "metadata": {},
   "outputs": [
    {
     "data": {
      "text/html": [
       "<script>\n",
       "code_show=true; \n",
       "function code_toggle() {\n",
       " if (code_show){\n",
       " $('div.input').hide();\n",
       " } else {\n",
       " $('div.input').show();\n",
       " }\n",
       " code_show = !code_show\n",
       "} \n",
       "$( document ).ready(code_toggle);\n",
       "</script>\n",
       "<form action=\"javascript:code_toggle()\"><input type=\"submit\" value=\"Esconder/Mostrar <Codigo>\"></form>"
      ],
      "text/plain": [
       "<IPython.core.display.HTML object>"
      ]
     },
     "execution_count": 193,
     "metadata": {},
     "output_type": "execute_result"
    }
   ],
   "source": [
    "from IPython.display import HTML\n",
    "\n",
    "HTML('''<script>\n",
    "code_show=true; \n",
    "function code_toggle() {\n",
    " if (code_show){\n",
    " $('div.input').hide();\n",
    " } else {\n",
    " $('div.input').show();\n",
    " }\n",
    " code_show = !code_show\n",
    "} \n",
    "$( document ).ready(code_toggle);\n",
    "</script>\n",
    "<form action=\"javascript:code_toggle()\"><input type=\"submit\" value=\"Esconder/Mostrar <Codigo>\"></form>''')"
   ]
  }
 ],
 "metadata": {
  "kernelspec": {
   "display_name": "Python 3",
   "language": "python",
   "name": "python3"
  },
  "language_info": {
   "codemirror_mode": {
    "name": "ipython",
    "version": 3
   },
   "file_extension": ".py",
   "mimetype": "text/x-python",
   "name": "python",
   "nbconvert_exporter": "python",
   "pygments_lexer": "ipython3",
   "version": "3.6.5"
  }
 },
 "nbformat": 4,
 "nbformat_minor": 2
}
